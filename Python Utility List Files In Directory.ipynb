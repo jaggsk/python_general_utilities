{
 "cells": [
  {
   "cell_type": "markdown",
   "metadata": {},
   "source": [
    "# Output List of files in a directory"
   ]
  },
  {
   "cell_type": "markdown",
   "metadata": {},
   "source": [
    "## Utility script outline\n",
    "- User specifies input directory path,output directory path and output file name.\n",
    "- Script reads every file name in the chosen input directory and adds to Python list.\n",
    "- List is written to a text file saved at the selected output directory path"
   ]
  },
  {
   "cell_type": "markdown",
   "metadata": {},
   "source": [
    "### Python imports"
   ]
  },
  {
   "cell_type": "code",
   "execution_count": null,
   "metadata": {},
   "outputs": [],
   "source": [
    "from os import listdir\n",
    "from os.path import isfile, join"
   ]
  },
  {
   "cell_type": "markdown",
   "metadata": {},
   "source": [
    "###  User specified inputs\n",
    "- Note the requirement for file paths to use double backslash.\n",
    "- Also requires single quotes at beginning and end of string.\n",
    "- Example: in_dir = 'C:\\\\Users\\\\jbloggs\\\\Documents\\\\\\\\'.\n",
    "- Outputs a text file, specify the output directory and a name.Current default is directory_file_list.txt."
   ]
  },
  {
   "cell_type": "code",
   "execution_count": null,
   "metadata": {},
   "outputs": [],
   "source": [
    "#REQUIRED: Must be a valid directory path \n",
    "in_dir = 'C:\\\\Users\\\\jbloggs\\\\Documents\\\\'\n",
    "#REQUIRED: Must be a valid directory path\n",
    "out_dir = 'C:\\\\Users\\\\jbloggs\\\\Documents\\\\'\n",
    "#REQUIRED: Suggest to leave as .txt\n",
    "filename_suffix = '.txt'\n",
    "#REQUIRED: Valid text string for output document title\n",
    "base_filename = 'directory_file_list'"
   ]
  },
  {
   "cell_type": "markdown",
   "metadata": {},
   "source": [
    "### Read all files in selected directory to a python list"
   ]
  },
  {
   "cell_type": "code",
   "execution_count": null,
   "metadata": {},
   "outputs": [],
   "source": [
    "onlyfiles = [f for f in listdir(in_dir) if isfile(join(in_dir, f))]"
   ]
  },
  {
   "cell_type": "markdown",
   "metadata": {},
   "source": [
    "### Set output file name"
   ]
  },
  {
   "cell_type": "code",
   "execution_count": null,
   "metadata": {},
   "outputs": [],
   "source": [
    "outfilename = join(out_dir, base_filename + \".\" + filename_suffix)"
   ]
  },
  {
   "cell_type": "markdown",
   "metadata": {},
   "source": [
    "### Iterate through list and output each line to text file"
   ]
  },
  {
   "cell_type": "code",
   "execution_count": null,
   "metadata": {},
   "outputs": [],
   "source": [
    "with open (outfilename, 'w') as list_files:\n",
    "    for eachfile in onlyfiles: list_files.write(eachfile+'\\n')"
   ]
  }
 ],
 "metadata": {
  "kernelspec": {
   "display_name": "Python 3",
   "language": "python",
   "name": "python3"
  },
  "language_info": {
   "codemirror_mode": {
    "name": "ipython",
    "version": 3
   },
   "file_extension": ".py",
   "mimetype": "text/x-python",
   "name": "python",
   "nbconvert_exporter": "python",
   "pygments_lexer": "ipython3",
   "version": "3.7.6"
  }
 },
 "nbformat": 4,
 "nbformat_minor": 4
}
